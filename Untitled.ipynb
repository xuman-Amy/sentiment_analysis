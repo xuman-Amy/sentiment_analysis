{
 "cells": [
  {
   "cell_type": "code",
   "execution_count": 38,
   "metadata": {},
   "outputs": [
    {
     "name": "stdout",
     "output_type": "stream",
     "text": [
      "2751204\n",
      "time used 1712.590000\n"
     ]
    }
   ],
   "source": [
    "import codecs\n",
    "from functools import reduce\n",
    "import jieba\n",
    "import time\n",
    "\n",
    "with codecs.open('sentiment_word/positive_word.txt','r',encoding = 'utf-8') as fp,\\\n",
    "     codecs.open('sentiment_word/negative_word.txt', 'r', encoding = 'utf-8') as fn:\n",
    "    pos_words = [lines.strip() for lines in fp]\n",
    "    neg_words = [lines.strip() for lines in fn]\n",
    "    \n",
    "start = time.clock()\n",
    "with codecs.open('/data/xuman/sentiment_analysis/allmsg/save_msgs_thr5.txt', 'r') as fr, \\\n",
    "     codecs.open('/data/xuman/sentiment_analysis/allmsg/msg_pos_fromfile', 'w') as fw_pos,\\\n",
    "     codecs.open('/data/xuman/sentiment_analysis/allmsg/msg_neg_fromfile', 'w') as fw_neg:\n",
    "    \n",
    "    line_pos,line_neg = [],[]\n",
    "    lines = [jieba.cut(x,cut_all = False ) for x in fr]\n",
    "    print(len(lines))\n",
    "    for x in lines:\n",
    "        x_pos = [''.join(x) for t in x if t in pos_words]\n",
    "#         print((x_pos))\n",
    "        line_pos.append(x_pos)\n",
    "        x_neg = [''.join(x) for t in x if t in neg_words]\n",
    "        line_neg.append(x_neg)\n",
    "    _ = list(map(lambda x: fw_pos.write(str(x)),line_pos)) \n",
    "    _ = list(map(lambda x: fw_neg.write(str(x)),line_neg))\n",
    "    \n",
    "end = time.clock()\n",
    "print('time used %8f' % (end - start))"
   ]
  },
  {
   "cell_type": "code",
   "execution_count": 39,
   "metadata": {},
   "outputs": [
    {
     "ename": "TypeError",
     "evalue": "unhashable type: 'list'",
     "output_type": "error",
     "traceback": [
      "\u001b[0;31m---------------------------------------------------------------------------\u001b[0m",
      "\u001b[0;31mTypeError\u001b[0m                                 Traceback (most recent call last)",
      "\u001b[0;32m<ipython-input-39-dd13b3893844>\u001b[0m in \u001b[0;36m<module>\u001b[0;34m()\u001b[0m\n\u001b[0;32m----> 1\u001b[0;31m \u001b[0mprint\u001b[0m\u001b[0;34m(\u001b[0m\u001b[0mlen\u001b[0m\u001b[0;34m(\u001b[0m\u001b[0mset\u001b[0m\u001b[0;34m(\u001b[0m\u001b[0mline_neg\u001b[0m\u001b[0;34m)\u001b[0m\u001b[0;34m)\u001b[0m\u001b[0;34m)\u001b[0m\u001b[0;34m\u001b[0m\u001b[0m\n\u001b[0m\u001b[1;32m      2\u001b[0m \u001b[0mprint\u001b[0m\u001b[0;34m(\u001b[0m\u001b[0mlen\u001b[0m\u001b[0;34m(\u001b[0m\u001b[0mset\u001b[0m\u001b[0;34m(\u001b[0m\u001b[0mline_pos\u001b[0m\u001b[0;34m)\u001b[0m\u001b[0;34m)\u001b[0m\u001b[0;34m)\u001b[0m\u001b[0;34m\u001b[0m\u001b[0m\n\u001b[1;32m      3\u001b[0m \u001b[0;31m# for x in set(line_pos):\u001b[0m\u001b[0;34m\u001b[0m\u001b[0;34m\u001b[0m\u001b[0m\n\u001b[1;32m      4\u001b[0m \u001b[0;31m#     print(x)\u001b[0m\u001b[0;34m\u001b[0m\u001b[0;34m\u001b[0m\u001b[0m\n\u001b[1;32m      5\u001b[0m \u001b[0;32mwith\u001b[0m \u001b[0mcodecs\u001b[0m\u001b[0;34m.\u001b[0m\u001b[0mopen\u001b[0m\u001b[0;34m(\u001b[0m\u001b[0;34m'/data/xuman/sentiment_analysis/allmsg/msg_pos_fromfile'\u001b[0m\u001b[0;34m,\u001b[0m \u001b[0;34m'w'\u001b[0m\u001b[0;34m)\u001b[0m \u001b[0;32mas\u001b[0m \u001b[0mfw_pos\u001b[0m\u001b[0;34m,\u001b[0m     \u001b[0mcodecs\u001b[0m\u001b[0;34m.\u001b[0m\u001b[0mopen\u001b[0m\u001b[0;34m(\u001b[0m\u001b[0;34m'/data/xuman/sentiment_analysis/allmsg/msg_neg_fromfile'\u001b[0m\u001b[0;34m,\u001b[0m \u001b[0;34m'w'\u001b[0m\u001b[0;34m)\u001b[0m \u001b[0;32mas\u001b[0m \u001b[0mfw_neg\u001b[0m\u001b[0;34m:\u001b[0m\u001b[0;34m\u001b[0m\u001b[0m\n",
      "\u001b[0;31mTypeError\u001b[0m: unhashable type: 'list'"
     ]
    }
   ],
   "source": [
    "print(len(set(line_neg)))\n",
    "print(len(set(line_pos)))\n",
    "# for x in set(line_pos):\n",
    "#     print(x)\n",
    "with codecs.open('/data/xuman/sentiment_analysis/allmsg/msg_pos_fromfile', 'w') as fw_pos,\\\n",
    "     codecs.open('/data/xuman/sentiment_analysis/allmsg/msg_neg_fromfile', 'w') as fw_neg:\n",
    "    _ = list(map(lambda x: fw_pos.write(str(x)),line_pos)) \n",
    "    _ = list(map(lambda x: fw_neg.write(str(x)),line_neg))"
   ]
  },
  {
   "cell_type": "code",
   "execution_count": null,
   "metadata": {},
   "outputs": [],
   "source": [
    "#     s_pos= r\"(你真)|棒|赞|(好评)|(五星)|(满意)|(不错)|(喜欢)|(厉害)\"\n",
    "#     s_neg = r\"(差评)|傻|(妈的)|(去死)|(滚)|(讨厌)|烦|(看不上)\"\n",
    "#     line_pos = [ x for x in lines if x in  pos_words]\n",
    "#     line_neg = [ x for x in lines if  re.findall(s_neg, str(x)) ]\n",
    "#     #f_pos.write(str(line_pos)+'\\n' )\n",
    "   \n",
    "   "
   ]
  }
 ],
 "metadata": {
  "kernelspec": {
   "display_name": "Python [conda env:python3.env]",
   "language": "python",
   "name": "conda-env-python3.env-py"
  },
  "language_info": {
   "codemirror_mode": {
    "name": "ipython",
    "version": 3
   },
   "file_extension": ".py",
   "mimetype": "text/x-python",
   "name": "python",
   "nbconvert_exporter": "python",
   "pygments_lexer": "ipython3",
   "version": "3.6.3"
  }
 },
 "nbformat": 4,
 "nbformat_minor": 2
}

{
 "cells": [
  {
   "cell_type": "code",
   "execution_count": 59,
   "metadata": {},
   "outputs": [],
   "source": [
    "#-*- coding:utf-8 -*-\n",
    "import json\n",
    "import requests\n",
    "from urllib.parse import quote\n",
    "\n",
    "class Searcher(object):\n",
    "#     _host = '10.31.141.51:8130'\n",
    "    _host = '123.57.173.102:8130'\n",
    "    _timeout_s = 3\n",
    "\n",
    "    @classmethod\n",
    "    def question_search(cls, query, size=200):\n",
    "        url = ('http://%s/in/nlp/tob/datasearch?size=%s&score=bow&condition=5<50%%&query=%s'\n",
    "            % (cls._host, size, query))\n",
    "#         url = 'http://10.31.141.51:8130/in/nlp/tob/datasearch?size=100&score=wmd&query='';\n",
    "        r = requests.get(url)\n",
    "#         print (r.content.decode('unicode_escape'))\n",
    "        rsp = r.json()\n",
    "        sim_questions = []\n",
    "        score = []\n",
    "        if rsp['errno'] == 0:\n",
    "            result = [{\n",
    "                'question':x['info']['question'],\n",
    "                'score':x['score']\n",
    "            } for x in rsp['results']['results'] if x['score']>0.58]\n",
    "#             if x['score']>0.75\n",
    "#             sim_questions = [x['info']['question'] for x in rsp['results']['results']]\n",
    "#             score = [x['score'] for x in rsp['results']['results']]\n",
    "            #print(score)\n",
    "        return result\n",
    "\n",
    "\n",
    "def print_sim_questions(sim_questions):\n",
    "    print (len(sim_questions))\n",
    "    for sim_ques in sim_questions:\n",
    "        print( sim_ques)\n",
    "        \n",
    "        \n",
    "def write__sim_questions(question,sim_questions,score,file):\n",
    "    file.write(question.strip('\\t')+' ')\n",
    "    file.write(' '.join(sim_questions)+'\\n')\n",
    "\n",
    "# import random\n",
    "# num = random.sample(range(1,190),50)\n",
    "# with open('log/msg_neg.txt','r') as f_neg,open('log/msg_pos.txt','r') as f_pos,open('log/data.txt','w') as f_data:\n",
    "#     line_pos = [x for x in f_pos]\n",
    "#     line_neg = [x for x in f_neg]\n",
    "#     for i in num:\n",
    "#         f_data.write(line_pos[i]+line_neg[i])\n",
    "\n",
    "            \n"
   ]
  },
  {
   "cell_type": "code",
   "execution_count": 60,
   "metadata": {},
   "outputs": [],
   "source": [
    "if '__main__' == __name__:\n",
    "#     result = Searcher.question_search('小来你真棒')\n",
    "#     print_sim_questions(result)\n",
    "    with open('/home/works/data/xuman/sentiment_analysis/allmsg/msg_pos_seed.txt','r') as fr_pos,\\\n",
    "         open('/home/works/data/xuman/sentiment_analysis/allmsg/msg_pos_es.txt','w') as fw_pos,\\\n",
    "         open('/home/works/data/xuman/sentiment_analysis/allmsg/msg_neg_seed.txt','r') as fr_neg, \\\n",
    "         open('/home/works/data/xuman/sentiment_analysis/allmsg/msg_neg_es.txt','w') as fw_neg :\n",
    "#         open('log/data.txt','r')as fr,open('log/data_recall.txt','w') as fw:\n",
    "       \n",
    "#         for msg in fr_pos:\n",
    "#             results = Searcher.question_search(msg)\n",
    "# #             print(results)\n",
    "#             fw_pos.write('%s%s\\n' % (\n",
    "#                         msg.strip()+'\\n',\n",
    "#                         '\\n'.join('%s' % x['question'].strip() for x in results)\n",
    "#                         )\n",
    "#                         )\n",
    "        for msg in fr_neg:\n",
    "            results = Searcher.question_search(msg)\n",
    "            fw_neg.write('%s%s\\n' % (\n",
    "                        msg.strip()+'\\n',\n",
    "                        '\\n'.join('%s' % x['question'].strip() for x in results)\n",
    "                        )\n",
    "                        )\n",
    "            \n",
    "#              fw_pos.write('%s\\t%s\\n' % (\n",
    "#                     msg.strip('\\n'),\n",
    "#                     '\\t'.join(['%.8f|%s'%(x['score'],x['question']) for x in results])\n",
    "#                 )\n",
    "#             )\n",
    "        \n",
    "   "
   ]
  },
  {
   "cell_type": "code",
   "execution_count": 50,
   "metadata": {},
   "outputs": [],
   "source": [
    "#产生随机数\n",
    "import random \n",
    "def generate_num(length):\n",
    "    num = range(length)\n",
    "    return random.sample(num,200)"
   ]
  },
  {
   "cell_type": "code",
   "execution_count": 51,
   "metadata": {},
   "outputs": [],
   "source": [
    "#抽样es检索并去重的数据 各100条\n",
    "\n",
    "with open('/home/works/data/xuman/sentiment_analysis/allmsg/msg_neg_es_uniq', 'r') as fn,\\\n",
    "     open('/home/works/data/xuman/sentiment_analysis/allmsg/msg_pos_es_uniq','r') as fp,\\\n",
    "     open ('/home/works/data/xuman/sentiment_analysis/allmsg/random_pos.txt','w') as frand_p,\\\n",
    "     open ('/home/works/data/xuman/sentiment_analysis/allmsg/random_neg.txt','w') as frand_n:\n",
    "    line_neg = [line for line in fn]\n",
    "    line_pos = [line for line in fp]\n",
    "    len_p = len(line_pos)\n",
    "    len_n = len(line_neg)\n",
    "    for i in generate_num(len_n):\n",
    "#         print(line_neg[i])\n",
    "        frand_n.write(line_neg[i])\n",
    "    for j in generate_num(len_p):\n",
    "        frand_p.write(line_pos[j])\n",
    "    \n",
    "# frand.close()\n",
    "    \n",
    "    \n",
    "    "
   ]
  },
  {
   "cell_type": "code",
   "execution_count": null,
   "metadata": {},
   "outputs": [],
   "source": [
    "if '__main__' == __name__:\n",
    "    with open('/home/works/data/xuman/sentiment_analysis/allmsg/random.txt','r') as f,\\\n",
    "        open('/home/works/data/xuman/sentiment_analysis/allmsg/random_es.txt','w') as fw:\n",
    "        for msg in f:\n",
    "            results = Searcher.question_search(msg)\n",
    "#             print(len(results))\n",
    "            fw.write('%s\\t%s\\n' % (\n",
    "                    msg.strip('\\n'),\n",
    "                    '\\t'.join(['%.8f|%s'%(x['score'],x['question']) for x in results])\n",
    "                )\n",
    "            )      \n",
    "   "
   ]
  },
  {
   "cell_type": "code",
   "execution_count": null,
   "metadata": {},
   "outputs": [],
   "source": [
    "# 召回率\n",
    "if '__main__' == __name__:\n",
    "#     with open('log/msg_pos.txt','r') as fr_pos, open('log/es_msg_pos.txt','w') as fw_pos,open('log/msg_neg.txt','r') as fr_neg, open('log/es_msg_neg.txt','w') as fw_neg :\n",
    "    with open('/home/works/data/xuman/sentiment_analysis/allmsg/recall.csv','r')as fr,open('/home/works/data/xuman/sentiment_analysis/allmsg/recall_2.txt','w') as fw:\n",
    "     \n",
    "        for msg in fr:\n",
    "            results = Searcher.question_search(msg)\n",
    "#             print(results)\n",
    "            fw.write('%s\\t%s\\n' % (\n",
    "                    msg.strip('\\n'),\n",
    "                    '\\t'.join(['%.8f|%s'%(x['score'],x['question']) for x in results])\n",
    "                )\n",
    "            )\n",
    "\n"
   ]
  },
  {
   "cell_type": "code",
   "execution_count": null,
   "metadata": {},
   "outputs": [],
   "source": [
    "# calculate recall\n",
    "import pandas as pd\n",
    "df = pd.read_csv('/home/works/data/xuman/sentiment_analysis/allmsg/recall.csv',header = None)\n",
    "df.drop(df.index[201:], axis=0, inplace=True)\n",
    "df.drop(df.columns[7:], axis=1, inplace=True)\n",
    "df"
   ]
  },
  {
   "cell_type": "code",
   "execution_count": null,
   "metadata": {},
   "outputs": [],
   "source": [
    "num_1 = 0\n",
    "num_0 = 0.0\n",
    "type(num_1)\n",
    "recall = []\n",
    "for i in range(1,len(df)+1):\n",
    "    if df.iloc[i-1,6] == '1':\n",
    "        num_1 += 1\n",
    "    recall.append(num_1/i)\n",
    "df['recall'] =recall \n",
    "df.to_csv('/home/works/data/xuman/sentiment_analysis/allmsg/recall_2.csv',index=False,sep=',')"
   ]
  },
  {
   "cell_type": "code",
   "execution_count": null,
   "metadata": {},
   "outputs": [],
   "source": [
    "df.head(200)"
   ]
  },
  {
   "cell_type": "code",
   "execution_count": 14,
   "metadata": {},
   "outputs": [
    {
     "data": {
      "text/plain": [
       "0.88"
      ]
     },
     "execution_count": 14,
     "metadata": {},
     "output_type": "execute_result"
    }
   ],
   "source": [
    "176/200"
   ]
  },
  {
   "cell_type": "code",
   "execution_count": 23,
   "metadata": {},
   "outputs": [
    {
     "data": {
      "text/plain": [
       "0.775"
      ]
     },
     "execution_count": 23,
     "metadata": {},
     "output_type": "execute_result"
    }
   ],
   "source": [
    "155/200"
   ]
  },
  {
   "cell_type": "code",
   "execution_count": 24,
   "metadata": {},
   "outputs": [
    {
     "data": {
      "text/plain": [
       "3.8275"
      ]
     },
     "execution_count": 24,
     "metadata": {},
     "output_type": "execute_result"
    }
   ],
   "source": [
    "6124/1600"
   ]
  },
  {
   "cell_type": "code",
   "execution_count": 41,
   "metadata": {},
   "outputs": [
    {
     "data": {
      "text/plain": [
       "0.84"
      ]
     },
     "execution_count": 41,
     "metadata": {},
     "output_type": "execute_result"
    }
   ],
   "source": [
    "168/200"
   ]
  },
  {
   "cell_type": "code",
   "execution_count": 63,
   "metadata": {},
   "outputs": [
    {
     "data": {
      "text/plain": [
       "3.832517140058766"
      ]
     },
     "execution_count": 63,
     "metadata": {},
     "output_type": "execute_result"
    }
   ],
   "source": [
    "3913/1021"
   ]
  },
  {
   "cell_type": "code",
   "execution_count": 61,
   "metadata": {},
   "outputs": [
    {
     "data": {
      "text/plain": [
       "2.3225"
      ]
     },
     "execution_count": 61,
     "metadata": {},
     "output_type": "execute_result"
    }
   ],
   "source": [
    "3716/1600"
   ]
  },
  {
   "cell_type": "code",
   "execution_count": 62,
   "metadata": {},
   "outputs": [
    {
     "data": {
      "text/plain": [
       "0.92"
      ]
     },
     "execution_count": 62,
     "metadata": {},
     "output_type": "execute_result"
    }
   ],
   "source": [
    "184/200"
   ]
  },
  {
   "cell_type": "code",
   "execution_count": null,
   "metadata": {},
   "outputs": [],
   "source": []
  }
 ],
 "metadata": {
  "kernelspec": {
   "display_name": "Python [conda env:python3.env]",
   "language": "python",
   "name": "conda-env-python3.env-py"
  },
  "language_info": {
   "codemirror_mode": {
    "name": "ipython",
    "version": 3
   },
   "file_extension": ".py",
   "mimetype": "text/x-python",
   "name": "python",
   "nbconvert_exporter": "python",
   "pygments_lexer": "ipython3",
   "version": "3.6.3"
  }
 },
 "nbformat": 4,
 "nbformat_minor": 2
}

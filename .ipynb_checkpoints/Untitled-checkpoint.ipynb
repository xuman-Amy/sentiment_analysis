{
 "cells": [
  {
   "cell_type": "code",
   "execution_count": null,
   "metadata": {},
   "outputs": [],
   "source": [
    "import codecs\n",
    "from functools import reduce\n",
    "import jieba\n",
    "import time\n",
    "\n",
    "with codecs.open('sentiment_word/positive_word.txt','r',encoding = 'utf-8') as fp,\\\n",
    "     codecs.open('sentiment_word/negative_word.txt', 'r', encoding = 'utf-8') as fn:\n",
    "    pos_words = [lines.strip() for lines in fp]\n",
    "    neg_words = [lines.strip() for lines in fn]\n",
    "    \n",
    "start = time.clock()\n",
    "with codecs.open('/data/xuman/sentiment_analysis/allmsg/save_msgs_thr5.txt', 'r') as fr, \\\n",
    "     codecs.open('/data/xuman/sentiment_analysis/allmsg/msg_pos', 'w') as fw_pos,\\\n",
    "     codecs.open('/data/xuman/sentiment_analysis/allmsg/msg_neg', 'w') as fw_neg:\n",
    "    \n",
    "    line_pos,line_neg = [],[]\n",
    "    lines = [jieba.cut(x,cut_all = False ) for x in fr]\n",
    "    print(len(lines))\n",
    "    for x in lines:\n",
    "        x_pos = [''.join(x) for t in x if t in pos_words]\n",
    "#         print(''.join(x_pos)\n",
    "        line_pos.append(''.join(x_pos))\n",
    "        x_neg = [''.join(x) for t in x if t in neg_words]\n",
    "        line_neg.append(''.join(x_neg))\n",
    "    _ = list(map(lambda x: fw_pos.write(str(x)),line_pos)) \n",
    "    _ = list(map(lambda x: fw_neg.write(str(x)),line_neg))\n",
    "    \n",
    "end = time.clock()\n",
    "print('time used %8f' % (end - start))"
   ]
  },
  {
   "cell_type": "code",
   "execution_count": null,
   "metadata": {},
   "outputs": [],
   "source": [
    "#     s_pos= r\"(你真)|棒|赞|(好评)|(五星)|(满意)|(不错)|(喜欢)|(厉害)\"\n",
    "#     s_neg = r\"(差评)|傻|(妈的)|(去死)|(滚)|(讨厌)|烦|(看不上)\"\n",
    "#     line_pos = [ x for x in lines if x in  pos_words]\n",
    "#     line_neg = [ x for x in lines if  re.findall(s_neg, str(x)) ]\n",
    "#     #f_pos.write(str(line_pos)+'\\n' )\n",
    "   \n",
    "   "
   ]
  }
 ],
 "metadata": {
  "kernelspec": {
   "display_name": "Python [conda env:python3.env]",
   "language": "python",
   "name": "conda-env-python3.env-py"
  },
  "language_info": {
   "codemirror_mode": {
    "name": "ipython",
    "version": 3
   },
   "file_extension": ".py",
   "mimetype": "text/x-python",
   "name": "python",
   "nbconvert_exporter": "python",
   "pygments_lexer": "ipython3",
   "version": "3.6.3"
  }
 },
 "nbformat": 4,
 "nbformat_minor": 2
}
